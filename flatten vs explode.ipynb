{
 "cells": [
  {
   "cell_type": "code",
   "execution_count": 5,
   "id": "54c62047-bec7-407e-ad27-389e0d4738a5",
   "metadata": {},
   "outputs": [],
   "source": [
    "from pyspark.sql import SparkSession"
   ]
  },
  {
   "cell_type": "code",
   "execution_count": 6,
   "id": "d14bb5a4-1342-427a-836a-59ced3e90806",
   "metadata": {},
   "outputs": [],
   "source": [
    "spark = SparkSession.builder.appName(\"explode vs flattern\").getOrCreate()"
   ]
  },
  {
   "cell_type": "code",
   "execution_count": 7,
   "id": "cee549af-3fe9-43a3-b7ff-e331a7d83f5b",
   "metadata": {
    "scrolled": true
   },
   "outputs": [
    {
     "data": {
      "text/html": [
       "\n",
       "            <div>\n",
       "                <p><b>SparkSession - in-memory</b></p>\n",
       "                \n",
       "        <div>\n",
       "            <p><b>SparkContext</b></p>\n",
       "\n",
       "            <p><a href=\"http://TJ-Pink:4040\">Spark UI</a></p>\n",
       "\n",
       "            <dl>\n",
       "              <dt>Version</dt>\n",
       "                <dd><code>v3.5.3</code></dd>\n",
       "              <dt>Master</dt>\n",
       "                <dd><code>local[*]</code></dd>\n",
       "              <dt>AppName</dt>\n",
       "                <dd><code>explode vs flattern</code></dd>\n",
       "            </dl>\n",
       "        </div>\n",
       "        \n",
       "            </div>\n",
       "        "
      ],
      "text/plain": [
       "<pyspark.sql.session.SparkSession at 0x1d8cce39df0>"
      ]
     },
     "execution_count": 7,
     "metadata": {},
     "output_type": "execute_result"
    }
   ],
   "source": [
    "spark"
   ]
  },
  {
   "cell_type": "code",
   "execution_count": 8,
   "id": "0da9a31b-804d-445b-921b-3ee67739f812",
   "metadata": {},
   "outputs": [],
   "source": [
    "from pyspark.sql.functions import flatten, explode"
   ]
  },
  {
   "cell_type": "code",
   "execution_count": 9,
   "id": "75873efa-1f9e-4200-acb4-13ced11d029f",
   "metadata": {},
   "outputs": [],
   "source": [
    "recs_df = spark.createDataFrame(((1, [[\"prod1\", \"prod2\"], [\"prod3\"]]), (2, [[\"prod4\", \"prod5\"], [\"prod6\"]])), ['userid', 'prodRecommendations'])"
   ]
  },
  {
   "cell_type": "code",
   "execution_count": 10,
   "id": "53862d07-0a11-4864-9f69-1376cf3dbbea",
   "metadata": {},
   "outputs": [
    {
     "name": "stdout",
     "output_type": "stream",
     "text": [
      "+------+-------------------------+\n",
      "|userid|prodRecommendations      |\n",
      "+------+-------------------------+\n",
      "|1     |[[prod1, prod2], [prod3]]|\n",
      "|2     |[[prod4, prod5], [prod6]]|\n",
      "+------+-------------------------+\n",
      "\n"
     ]
    }
   ],
   "source": [
    "recs_df.show(truncate=False)"
   ]
  },
  {
   "cell_type": "code",
   "execution_count": 11,
   "id": "aa88b8f4-8b37-40b8-9020-ca01b8d8e85f",
   "metadata": {},
   "outputs": [
    {
     "name": "stdout",
     "output_type": "stream",
     "text": [
      "+------+-------------------------+---------------------+\n",
      "|userid|prodRecommendations      |flattenedOutput      |\n",
      "+------+-------------------------+---------------------+\n",
      "|1     |[[prod1, prod2], [prod3]]|[prod1, prod2, prod3]|\n",
      "|2     |[[prod4, prod5], [prod6]]|[prod4, prod5, prod6]|\n",
      "+------+-------------------------+---------------------+\n",
      "\n"
     ]
    }
   ],
   "source": [
    "recsFlatten = recs_df.withColumn(\"flattenedOutput\", flatten(recs_df.prodRecommendations))\n",
    "recsFlatten.show(truncate=False)"
   ]
  },
  {
   "cell_type": "code",
   "execution_count": 12,
   "id": "d3e66d50-980d-4277-bf97-e655319ba3e7",
   "metadata": {},
   "outputs": [
    {
     "name": "stdout",
     "output_type": "stream",
     "text": [
      "+------+-------------------------+-----------------+\n",
      "|userid|prodRecommendations      |Recommendations_1|\n",
      "+------+-------------------------+-----------------+\n",
      "|1     |[[prod1, prod2], [prod3]]|[prod1, prod2]   |\n",
      "|1     |[[prod1, prod2], [prod3]]|[prod3]          |\n",
      "|2     |[[prod4, prod5], [prod6]]|[prod4, prod5]   |\n",
      "|2     |[[prod4, prod5], [prod6]]|[prod6]          |\n",
      "+------+-------------------------+-----------------+\n",
      "\n",
      "root\n",
      " |-- userid: long (nullable = true)\n",
      " |-- prodRecommendations: array (nullable = true)\n",
      " |    |-- element: array (containsNull = true)\n",
      " |    |    |-- element: string (containsNull = true)\n",
      " |-- Recommendations_1: array (nullable = true)\n",
      " |    |-- element: string (containsNull = true)\n",
      "\n"
     ]
    }
   ],
   "source": [
    "explodedDF1 = recs_df.withColumns({\"Recommendations_1\": explode(recs_df.prodRecommendations)})\n",
    "explodedDF1.show(truncate=False)\n",
    "explodedDF1.printSchema()"
   ]
  },
  {
   "cell_type": "code",
   "execution_count": 35,
   "id": "cefd71f8-301e-46fe-8323-8ce393f3b90f",
   "metadata": {},
   "outputs": [
    {
     "name": "stdout",
     "output_type": "stream",
     "text": [
      "+------+-------------------------+-----------------+\n",
      "|userid|prodRecommendations      |Recommendations_2|\n",
      "+------+-------------------------+-----------------+\n",
      "|1     |[[prod1, prod2], [prod3]]|prod1            |\n",
      "|1     |[[prod1, prod2], [prod3]]|prod2            |\n",
      "|1     |[[prod1, prod2], [prod3]]|prod3            |\n",
      "|2     |[[prod4, prod5], [prod6]]|prod4            |\n",
      "|2     |[[prod4, prod5], [prod6]]|prod5            |\n",
      "|2     |[[prod4, prod5], [prod6]]|prod6            |\n",
      "+------+-------------------------+-----------------+\n",
      "\n"
     ]
    }
   ],
   "source": [
    "explodedDF2 = explodedDF1.withColumns({\"Recommendations_2\": explode(explodedDF1.Recommendations_1)}).select(\"userid\", \"prodRecommendations\", \"Recommendations_2\")\n",
    "explodedDF2.show(truncate=False)"
   ]
  },
  {
   "cell_type": "code",
   "execution_count": 37,
   "id": "ad0eb2e1-68ff-4f15-8a24-3edfba99476a",
   "metadata": {},
   "outputs": [],
   "source": [
    "# Records with Empty Arrays\n",
    "nullable_df = spark.createDataFrame([\n",
    "    (1, [\"apple\", \"banana\"]),\n",
    "    (2, []),\n",
    "    (3, None)], [\"id\", \"fruits\"])"
   ]
  },
  {
   "cell_type": "code",
   "execution_count": 39,
   "id": "80dba292-4572-41f9-9a51-71087db2cc53",
   "metadata": {},
   "outputs": [
    {
     "name": "stdout",
     "output_type": "stream",
     "text": [
      "+---+---------------+\n",
      "|id |fruits         |\n",
      "+---+---------------+\n",
      "|1  |[apple, banana]|\n",
      "|2  |[]             |\n",
      "|3  |NULL           |\n",
      "+---+---------------+\n",
      "\n"
     ]
    }
   ],
   "source": [
    "nullable_df.show(truncate=False)"
   ]
  },
  {
   "cell_type": "code",
   "execution_count": 43,
   "id": "6869e5d3-c006-4349-bb48-462035ffaf37",
   "metadata": {},
   "outputs": [
    {
     "name": "stdout",
     "output_type": "stream",
     "text": [
      "+---+------+\n",
      "|id |fruit |\n",
      "+---+------+\n",
      "|1  |apple |\n",
      "|1  |banana|\n",
      "+---+------+\n",
      "\n"
     ]
    }
   ],
   "source": [
    "nullable_exploded = nullable_df.select(\"id\", explode(\"fruits\").alias(\"fruit\"))\n",
    "nullable_exploded.show(truncate=False)  # records 2 and 3 are not shown as they have empty arrays"
   ]
  },
  {
   "cell_type": "code",
   "execution_count": 45,
   "id": "ac5564a5-9b6b-4e63-97ca-1a51645a260d",
   "metadata": {},
   "outputs": [
    {
     "name": "stdout",
     "output_type": "stream",
     "text": [
      "+---+------+\n",
      "|id |fruit |\n",
      "+---+------+\n",
      "|1  |apple |\n",
      "|1  |banana|\n",
      "|2  |NULL  |\n",
      "|3  |NULL  |\n",
      "+---+------+\n",
      "\n"
     ]
    }
   ],
   "source": [
    "# using explode_outer for such cases\n",
    "from pyspark.sql.functions import explode_outer\n",
    "retain_null_exploded = nullable_df.select(\"id\", explode_outer(\"fruits\").alias(\"fruit\"))\n",
    "retain_null_exploded.show(truncate=False)"
   ]
  }
 ],
 "metadata": {
  "kernelspec": {
   "display_name": "Python 3 (ipykernel)",
   "language": "python",
   "name": "python3"
  },
  "language_info": {
   "codemirror_mode": {
    "name": "ipython",
    "version": 3
   },
   "file_extension": ".py",
   "mimetype": "text/x-python",
   "name": "python",
   "nbconvert_exporter": "python",
   "pygments_lexer": "ipython3",
   "version": "3.8.20"
  }
 },
 "nbformat": 4,
 "nbformat_minor": 5
}
