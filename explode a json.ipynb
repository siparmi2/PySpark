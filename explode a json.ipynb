{
 "cells": [
  {
   "cell_type": "code",
   "execution_count": 10,
   "id": "69285d86-9bfa-4a2b-b38c-32a43fa22622",
   "metadata": {},
   "outputs": [
    {
     "data": {
      "text/html": [
       "\n",
       "            <div>\n",
       "                <p><b>SparkSession - in-memory</b></p>\n",
       "                \n",
       "        <div>\n",
       "            <p><b>SparkContext</b></p>\n",
       "\n",
       "            <p><a href=\"http://TJ-Pink:4040\">Spark UI</a></p>\n",
       "\n",
       "            <dl>\n",
       "              <dt>Version</dt>\n",
       "                <dd><code>v3.5.3</code></dd>\n",
       "              <dt>Master</dt>\n",
       "                <dd><code>local[*]</code></dd>\n",
       "              <dt>AppName</dt>\n",
       "                <dd><code>explode and Dot Notation</code></dd>\n",
       "            </dl>\n",
       "        </div>\n",
       "        \n",
       "            </div>\n",
       "        "
      ],
      "text/plain": [
       "<pyspark.sql.session.SparkSession at 0x18fd0988940>"
      ]
     },
     "execution_count": 10,
     "metadata": {},
     "output_type": "execute_result"
    }
   ],
   "source": [
    "from pyspark.sql import SparkSession\n",
    "\n",
    "spark = SparkSession.builder.appName('explode and Dot Notation').master(\"local[*]\").getOrCreate()\n",
    "\n",
    "spark"
   ]
  },
  {
   "cell_type": "code",
   "execution_count": 11,
   "id": "95eed107-8fd2-46d8-b15d-5b8bd70dda9f",
   "metadata": {},
   "outputs": [],
   "source": [
    "df1 = spark.read.format('json').option(\"multiline\", True).load('data/input/json_test.json')"
   ]
  },
  {
   "cell_type": "code",
   "execution_count": 12,
   "id": "b97e3235-c595-47f4-a527-1ad374cd28da",
   "metadata": {},
   "outputs": [
    {
     "name": "stdout",
     "output_type": "stream",
     "text": [
      "+----------------+-----------+---------------------------------------------------------+\n",
      "|account_numbers |investor_id|transactions                                             |\n",
      "+----------------+-----------+---------------------------------------------------------+\n",
      "|[ACC123, ACC456]|INV001     |[{2024-06-01, T001, 1500.75}, {2024-06-15, T002, 2300.0}]|\n",
      "|[ACC789]        |INV002     |[{2024-07-05, T003, 500.0}]                              |\n",
      "+----------------+-----------+---------------------------------------------------------+\n",
      "\n"
     ]
    }
   ],
   "source": [
    "df1.show(truncate=False)"
   ]
  },
  {
   "cell_type": "code",
   "execution_count": 13,
   "id": "d51d2c15-0143-4a4b-9063-d3df8a4b744c",
   "metadata": {},
   "outputs": [],
   "source": [
    "from pyspark.sql.functions import col, explode\n",
    "df2 = df1.withColumn('exploded', explode('transactions')).select('investor_id', 'exploded')"
   ]
  },
  {
   "cell_type": "code",
   "execution_count": 14,
   "id": "c79a2229-2b34-41ae-9af6-3d902765e335",
   "metadata": {},
   "outputs": [
    {
     "name": "stdout",
     "output_type": "stream",
     "text": [
      "+-----------+---------------------------+\n",
      "|investor_id|exploded                   |\n",
      "+-----------+---------------------------+\n",
      "|INV001     |{2024-06-01, T001, 1500.75}|\n",
      "|INV001     |{2024-06-15, T002, 2300.0} |\n",
      "|INV002     |{2024-07-05, T003, 500.0}  |\n",
      "+-----------+---------------------------+\n",
      "\n",
      "root\n",
      " |-- investor_id: string (nullable = true)\n",
      " |-- exploded: struct (nullable = true)\n",
      " |    |-- date: string (nullable = true)\n",
      " |    |-- transID: string (nullable = true)\n",
      " |    |-- transamount: double (nullable = true)\n",
      "\n"
     ]
    }
   ],
   "source": [
    "df2.show(truncate=False)\n",
    "df2.printSchema()"
   ]
  },
  {
   "cell_type": "code",
   "execution_count": 15,
   "id": "c9ba655e-9a09-4f7e-9d17-d5f325b00a56",
   "metadata": {},
   "outputs": [
    {
     "name": "stdout",
     "output_type": "stream",
     "text": [
      "+-----------+---------------------------+-------+----------+---------+\n",
      "|investor_id|exploded                   |transID|trans_date|trans_amt|\n",
      "+-----------+---------------------------+-------+----------+---------+\n",
      "|INV001     |{2024-06-01, T001, 1500.75}|T001   |2024-06-01|1500.75  |\n",
      "|INV001     |{2024-06-15, T002, 2300.0} |T002   |2024-06-15|2300.0   |\n",
      "|INV002     |{2024-07-05, T003, 500.0}  |T003   |2024-07-05|500.0    |\n",
      "+-----------+---------------------------+-------+----------+---------+\n",
      "\n"
     ]
    }
   ],
   "source": [
    "from pyspark.sql.functions import *\n",
    "df2.withColumns({'transID':'exploded.transID', 'trans_date':'exploded.date', 'trans_amt':'exploded.transamount'}).show(truncate=False)"
   ]
  },
  {
   "cell_type": "code",
   "execution_count": 16,
   "id": "30711c9c-0eb4-49a1-91d3-60228067f904",
   "metadata": {},
   "outputs": [
    {
     "name": "stdout",
     "output_type": "stream",
     "text": [
      "+-----------+---------+\n",
      "|investor_id|trans_cnt|\n",
      "+-----------+---------+\n",
      "|INV001     |2        |\n",
      "|INV002     |1        |\n",
      "+-----------+---------+\n",
      "\n"
     ]
    }
   ],
   "source": [
    "df3 = df2.groupBy('investor_id').agg(count(lit(1)).alias('trans_cnt')).orderBy(col('trans_cnt').desc())\n",
    "df3.show(truncate=False)"
   ]
  },
  {
   "cell_type": "code",
   "execution_count": 17,
   "id": "4cafece6-bca7-4218-baa0-7b8ae0351ecb",
   "metadata": {},
   "outputs": [
    {
     "name": "stdout",
     "output_type": "stream",
     "text": [
      "Row(investor_id='INV001', trans_cnt=2)\n",
      "INV001\n",
      "+-----------+---------+\n",
      "|investor_id|trans_cnt|\n",
      "+-----------+---------+\n",
      "|     INV001|        2|\n",
      "+-----------+---------+\n",
      "\n"
     ]
    },
    {
     "data": {
      "text/plain": [
       "[Row(investor_id='INV002', trans_cnt=1)]"
      ]
     },
     "execution_count": 17,
     "metadata": {},
     "output_type": "execute_result"
    }
   ],
   "source": [
    "print(df3.head())\n",
    "print(df3.head()[0])\n",
    "df3.limit(1).show()\n",
    "df3.tail(1)"
   ]
  },
  {
   "cell_type": "code",
   "execution_count": 41,
   "id": "36fe9270-b6a3-4ac3-832f-dcb3af4053f5",
   "metadata": {},
   "outputs": [
    {
     "name": "stdout",
     "output_type": "stream",
     "text": [
      "+-----------+\n",
      "|investor_id|\n",
      "+-----------+\n",
      "|     INV001|\n",
      "+-----------+\n",
      "\n"
     ]
    }
   ],
   "source": [
    "df3.limit(1).select('investor_id').show()"
   ]
  }
 ],
 "metadata": {
  "kernelspec": {
   "display_name": "Python 3 (ipykernel)",
   "language": "python",
   "name": "python3"
  },
  "language_info": {
   "codemirror_mode": {
    "name": "ipython",
    "version": 3
   },
   "file_extension": ".py",
   "mimetype": "text/x-python",
   "name": "python",
   "nbconvert_exporter": "python",
   "pygments_lexer": "ipython3",
   "version": "3.8.20"
  }
 },
 "nbformat": 4,
 "nbformat_minor": 5
}
