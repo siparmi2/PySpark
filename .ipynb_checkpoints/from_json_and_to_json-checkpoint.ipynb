{
 "cells": [
  {
   "cell_type": "code",
   "execution_count": 1,
   "id": "536b5f8b-49ce-4ff4-a4f0-3b942227730a",
   "metadata": {},
   "outputs": [],
   "source": [
    "from pyspark.sql import SparkSession\n",
    "from pyspark.sql.functions import to_json, struct\n",
    "from pyspark.sql.types import StructType, StructField, StringType, IntegerType\n",
    "\n",
    "spark = SparkSession.builder.appName(\"json_examples\").getOrCreate()\n",
    "\n",
    "# Sample data\n",
    "data = [(\"John\", 30, \"New York\"), (\"Alice\", 25, \"Los Angeles\")]\n",
    "schema = StructType([\n",
    "    StructField(\"name\", StringType(), True),\n",
    "    StructField(\"age\", IntegerType(), True),\n",
    "    StructField(\"city\", StringType(), True)\n",
    "])\n",
    "\n",
    "df = spark.createDataFrame(data, schema)"
   ]
  },
  {
   "cell_type": "code",
   "execution_count": 5,
   "id": "ae4c579b-2f2e-40c5-a74e-431872a4bad0",
   "metadata": {},
   "outputs": [
    {
     "name": "stdout",
     "output_type": "stream",
     "text": [
      "+-----+---+-----------+\n",
      "| name|age|       city|\n",
      "+-----+---+-----------+\n",
      "| John| 30|   New York|\n",
      "|Alice| 25|Los Angeles|\n",
      "+-----+---+-----------+\n",
      "\n"
     ]
    }
   ],
   "source": [
    "df.show()"
   ]
  },
  {
   "cell_type": "code",
   "execution_count": 33,
   "id": "3d1e2879-306d-440e-860d-de9fd730f7e1",
   "metadata": {},
   "outputs": [],
   "source": [
    "df_json = df.withColumn(\"struct_data\", struct(\"name\", \"age\", \"city\")).withColumn(\"json_data\", to_json(\"struct_data\"))"
   ]
  },
  {
   "cell_type": "code",
   "execution_count": 61,
   "id": "48821a67-bbb0-464b-9e59-225819436703",
   "metadata": {},
   "outputs": [
    {
     "name": "stdout",
     "output_type": "stream",
     "text": [
      "+-----+---+-----------+------------------------+----------------------------------------------+\n",
      "|name |age|city       |struct_data             |json_data                                     |\n",
      "+-----+---+-----------+------------------------+----------------------------------------------+\n",
      "|John |30 |New York   |{John, 30, New York}    |{\"name\":\"John\",\"age\":30,\"city\":\"New York\"}    |\n",
      "|Alice|25 |Los Angeles|{Alice, 25, Los Angeles}|{\"name\":\"Alice\",\"age\":25,\"city\":\"Los Angeles\"}|\n",
      "+-----+---+-----------+------------------------+----------------------------------------------+\n",
      "\n",
      "root\n",
      " |-- name: string (nullable = true)\n",
      " |-- age: integer (nullable = true)\n",
      " |-- city: string (nullable = true)\n",
      " |-- struct_data: struct (nullable = false)\n",
      " |    |-- name: string (nullable = true)\n",
      " |    |-- age: integer (nullable = true)\n",
      " |    |-- city: string (nullable = true)\n",
      " |-- json_data: string (nullable = true)\n",
      "\n"
     ]
    }
   ],
   "source": [
    "df_json.show(truncate=False)\n",
    "df_json.printSchema()"
   ]
  },
  {
   "cell_type": "code",
   "execution_count": 13,
   "id": "6ee21a9f-0c7a-4010-bf9b-bf77bd9439d3",
   "metadata": {},
   "outputs": [],
   "source": [
    "from pyspark.sql.functions import from_json"
   ]
  },
  {
   "cell_type": "code",
   "execution_count": 45,
   "id": "67d7ab1f-2fbf-48c1-9565-935e47ed87b0",
   "metadata": {},
   "outputs": [
    {
     "name": "stdout",
     "output_type": "stream",
     "text": [
      "<class 'tuple'>\n",
      "<class 'str'>\n"
     ]
    }
   ],
   "source": [
    "print(type(('{\"name\":\"John\",\"age\":30,\"city\":\"New York\"}',)))  # <class 'tuple'>\n",
    "print(type(('{\"name\":\"John\",\"age\":30,\"city\":\"New York\"}')))  # <class 'str'>\n"
   ]
  },
  {
   "cell_type": "code",
   "execution_count": 57,
   "id": "4c62ca02-0212-4a05-89d9-d964a3eeceee",
   "metadata": {},
   "outputs": [
    {
     "name": "stdout",
     "output_type": "stream",
     "text": [
      "root\n",
      " |-- json_string: string (nullable = true)\n",
      "\n",
      "+----------------------------------------------+\n",
      "|json_string                                   |\n",
      "+----------------------------------------------+\n",
      "|{\"name\":\"John\",\"age\":30,\"city\":\"New York\"}    |\n",
      "|{\"name\":\"Alice\",\"age\":25,\"city\":\"Los Angeles\"}|\n",
      "+----------------------------------------------+\n",
      "\n"
     ]
    }
   ],
   "source": [
    "# Sample JSON data\n",
    "json_data = [\n",
    "    ('{\"name\":\"John\",\"age\":30,\"city\":\"New York\"}',),\n",
    "    ('{\"name\":\"Alice\",\"age\":25,\"city\":\"Los Angeles\"}',)\n",
    "]\n",
    "_schema = \"json_string string\"\n",
    "# json_df = spark.createDataFrame(json_data, schema=\"json_string string\",)\n",
    "json_df = spark.createDataFrame(json_data, [\"json_string\"])\n",
    "json_df.printSchema()\n",
    "json_df.show(truncate=False)"
   ]
  },
  {
   "cell_type": "code",
   "execution_count": 67,
   "id": "11a91c65-f7a2-41fe-952e-0f4724090e44",
   "metadata": {},
   "outputs": [
    {
     "name": "stdout",
     "output_type": "stream",
     "text": [
      "+----------------------------------------------+------------------------+\n",
      "|json_string                                   |parsed_data             |\n",
      "+----------------------------------------------+------------------------+\n",
      "|{\"name\":\"John\",\"age\":30,\"city\":\"New York\"}    |{John, 30, New York}    |\n",
      "|{\"name\":\"Alice\",\"age\":25,\"city\":\"Los Angeles\"}|{Alice, 25, Los Angeles}|\n",
      "+----------------------------------------------+------------------------+\n",
      "\n",
      "root\n",
      " |-- json_string: string (nullable = true)\n",
      " |-- parsed_data: struct (nullable = true)\n",
      " |    |-- name: string (nullable = true)\n",
      " |    |-- age: integer (nullable = true)\n",
      " |    |-- city: string (nullable = true)\n",
      "\n",
      "+-----+\n",
      "| name|\n",
      "+-----+\n",
      "| John|\n",
      "|Alice|\n",
      "+-----+\n",
      "\n",
      "+-----+---+-----------+\n",
      "| name|age|       city|\n",
      "+-----+---+-----------+\n",
      "| John| 30|   New York|\n",
      "|Alice| 25|Los Angeles|\n",
      "+-----+---+-----------+\n",
      "\n"
     ]
    }
   ],
   "source": [
    "# Define the schema for parsing\n",
    "json_schema = StructType([\n",
    "    StructField(\"name\", StringType()),\n",
    "    StructField(\"age\", IntegerType()),\n",
    "    StructField(\"city\", StringType())\n",
    "])\n",
    "\n",
    "# Parse JSON string into struct\n",
    "parsed_df = json_df.withColumn(\"parsed_data\", from_json(\"json_string\", json_schema))\n",
    "parsed_df.show(truncate=False)\n",
    "parsed_df.printSchema()\n",
    "parsed_df.select(\"parsed_data.name\").show()\n",
    "parsed_df.select(\"parsed_data.*\").show()"
   ]
  }
 ],
 "metadata": {
  "kernelspec": {
   "display_name": "Python 3 (ipykernel)",
   "language": "python",
   "name": "python3"
  },
  "language_info": {
   "codemirror_mode": {
    "name": "ipython",
    "version": 3
   },
   "file_extension": ".py",
   "mimetype": "text/x-python",
   "name": "python",
   "nbconvert_exporter": "python",
   "pygments_lexer": "ipython3",
   "version": "3.8.20"
  }
 },
 "nbformat": 4,
 "nbformat_minor": 5
}
